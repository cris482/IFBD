{
 "cells": [
  {
   "cell_type": "markdown",
   "id": "3a670e27-b84c-4981-a2cd-178c1cd802f9",
   "metadata": {},
   "source": [
    "# Download dataset"
   ]
  },
  {
   "cell_type": "code",
   "execution_count": 2,
   "id": "1336e755-2d87-44c5-ba13-26dcaee696a4",
   "metadata": {},
   "outputs": [
    {
     "name": "stderr",
     "output_type": "stream",
     "text": [
      "/home/ubuntu/jupyter/jup_notebook/lib/python3.10/site-packages/tqdm/auto.py:21: TqdmWarning: IProgress not found. Please update jupyter and ipywidgets. See https://ipywidgets.readthedocs.io/en/stable/user_install.html\n",
      "  from .autonotebook import tqdm as notebook_tqdm\n"
     ]
    },
    {
     "name": "stdout",
     "output_type": "stream",
     "text": [
      "Warning: Looks like you're using an outdated `kagglehub` version, please consider updating (latest version: 0.3.5)\n",
      "Downloading from https://www.kaggle.com/api/v1/datasets/download/artermiloff/steam-games-dataset?dataset_version_number=1...\n"
     ]
    },
    {
     "name": "stderr",
     "output_type": "stream",
     "text": [
      "100%|████████████████████████████████████████████████████████████████████████████████████████████████████| 201M/201M [00:03<00:00, 65.3MB/s]"
     ]
    },
    {
     "name": "stdout",
     "output_type": "stream",
     "text": [
      "Extracting files...\n"
     ]
    },
    {
     "name": "stderr",
     "output_type": "stream",
     "text": [
      "\n"
     ]
    },
    {
     "name": "stdout",
     "output_type": "stream",
     "text": [
      "Path to dataset files: /home/ubuntu/.cache/kagglehub/datasets/artermiloff/steam-games-dataset/versions/1\n"
     ]
    }
   ],
   "source": [
    "import kagglehub\n",
    "\n",
    "# Download latest version\n",
    "path = kagglehub.dataset_download(\"artermiloff/steam-games-dataset\")\n",
    "\n",
    "print(\"Path to dataset files:\", path) "
   ]
  },
  {
   "cell_type": "markdown",
   "id": "2d1037a8-e346-4d1a-88fe-eb01743171e0",
   "metadata": {},
   "source": [
    "## pindahkan ke direktori kerja "
   ]
  },
  {
   "cell_type": "code",
   "execution_count": 9,
   "id": "b0b022c7-c60b-4747-8629-6e8a6abb44ec",
   "metadata": {},
   "outputs": [],
   "source": [
    "mv /home/ubuntu/.cache/kagglehub/datasets/artermiloff/steam-games-dataset/versions/1/games_may2024_full.csv ./"
   ]
  },
  {
   "cell_type": "markdown",
   "id": "1fa26af9-abc3-4207-8539-26c45412e6a9",
   "metadata": {
    "jp-MarkdownHeadingCollapsed": true
   },
   "source": [
    "# Membuat sesi spark dan membaca dataset "
   ]
  },
  {
   "cell_type": "code",
   "execution_count": 2,
   "id": "5c983754-9947-4243-989e-6520e002451f",
   "metadata": {},
   "outputs": [
    {
     "name": "stderr",
     "output_type": "stream",
     "text": [
      "                                                                                \r"
     ]
    }
   ],
   "source": [
    "from pyspark.sql import SparkSession\n",
    "\n",
    "# Membuat SparkSession\n",
    "spark = SparkSession.builder \\\n",
    "    .appName(\"Baca Dataset CSV\") \\\n",
    "    .getOrCreate()\n",
    "# Lokasi file CSV\n",
    "file_path = \"games_may2024_full.csv\"\n",
    "\n",
    "# Membaca CSV ke dalam DataFrame Spark\n",
    "df = spark.read.csv(file_path, header=True, inferSchema=True)\n",
    "jb = df.count()\n",
    "jk = len(df.columns)"
   ]
  },
  {
   "cell_type": "markdown",
   "id": "8e4a5dd5-5164-4e4b-a633-fec0cb453c14",
   "metadata": {
    "jp-MarkdownHeadingCollapsed": true
   },
   "source": [
    "## Menampilkan Total jumlah baris,kolom dan 5 data teratas"
   ]
  },
  {
   "cell_type": "code",
   "execution_count": 3,
   "id": "1ea23ca5-682b-42d3-b9d3-c03eda71b45f",
   "metadata": {},
   "outputs": [
    {
     "name": "stdout",
     "output_type": "stream",
     "text": [
      " Total Jumlah baris: 87806\n",
      "Total jumlah Kolom :46\n"
     ]
    },
    {
     "name": "stderr",
     "output_type": "stream",
     "text": [
      "24/12/20 04:05:55 WARN package: Truncated the string representation of a plan since it was too large. This behavior can be adjusted by setting 'spark.sql.debug.maxToStringFields'.\n"
     ]
    },
    {
     "name": "stdout",
     "output_type": "stream",
     "text": [
      "+------+--------------------+------------+------------+-----+---------+--------------------+--------------------+--------------------+--------------------+--------------------+--------------------+--------------------+-------------+-------+-----+-----+----------------+--------------------+------------+---------------+--------------------+--------------------+--------------------+--------------------+------------------+--------------------+--------------------+--------------------+--------------------+--------------------+----------------+--------------------+------------------+----------------+--------------------+------------------------+-----------------------+-----------------------+----------------------+--------------------+--------------------+--------------------+--------------------+--------------+------------------+\n",
      "| AppID|                name|release_date|required_age|price|dlc_count|detailed_description|      about_the_game|   short_description|             reviews|        header_image|             website|         support_url|support_email|windows|  mac|linux|metacritic_score|      metacritic_url|achievements|recommendations|               notes| supported_languages|full_audio_languages|            packages|        developers|          publishers|          categories|              genres|         screenshots|              movies|      user_score|          score_rank|          positive|        negative|    estimated_owners|average_playtime_forever|average_playtime_2weeks|median_playtime_forever|median_playtime_2weeks|            peak_ccu|                tags|       pct_pos_total|   num_reviews_total|pct_pos_recent|num_reviews_recent|\n",
      "+------+--------------------+------------+------------+-----+---------+--------------------+--------------------+--------------------+--------------------+--------------------+--------------------+--------------------+-------------+-------+-----+-----+----------------+--------------------+------------+---------------+--------------------+--------------------+--------------------+--------------------+------------------+--------------------+--------------------+--------------------+--------------------+--------------------+----------------+--------------------+------------------+----------------+--------------------+------------------------+-----------------------+-----------------------+----------------------+--------------------+--------------------+--------------------+--------------------+--------------+------------------+\n",
      "|   730|    Counter-Strike 2|  2012-08-21|           0|  0.0|      1.0|For over two deca...|For over two deca...|For over two deca...|                null|https://cdn.akama...|http://counter-st...|                null|         null|   True|False| True|               0|                null|           1|        4111974|Includes intense ...|['Czech', 'Danish...|['English', 'Viet...|[{'title': 'Buy C...|         ['Valve']|           ['Valve']|['Multi-player', ...|['Action', 'Free ...|['https://cdn.aka...|['http://cdn.akam...|               0|                null|           7024836|         1029779|100000000 - 20000...|                   29018|                    753|                   6078|                   352|             1362469|{'FPS': 90076, 'S...|                  87|             8071426|            80|             56072|\n",
      "|578080| PUBG: BATTLEGROUNDS|  2017-12-21|           0|  0.0|      0.0|LAND, LOOT, SURVI...|LAND, LOOT, SURVI...|Play PUBG: BATTLE...|                null|https://cdn.akama...|https://www.pubg.com|https://support.p...|         null|   True|False|False|               0|                null|          37|        1701431|                null|['English', 'Kore...|                  []|                  []| ['KRAFTON, Inc.']|   ['KRAFTON, Inc.']|['Multi-player', ...|['Action', 'Adven...|['https://cdn.aka...|['http://cdn.akam...|               0|                null|           1379580|          981860|50000000 - 100000000|                       0|                      0|                      0|                     0|              590582|{'Survival': 1461...|                  58|             2365012|            68|             19517|\n",
      "|   570|              Dota 2|  2013-07-09|           0|  0.0|      2.0|The most-played g...|The most-played g...|Every day, millio...|“A modern multipl...|https://cdn.akama...|http://www.dota2....|                null|         null|   True| True| True|              90|https://www.metac...|           0|          14329|                null|['Bulgarian', 'Cz...|['English', 'Kore...|[{'title': 'Buy D...|         ['Valve']|           ['Valve']|['Multi-player', ...|['Action', 'Strat...|['https://cdn.aka...|['http://cdn.akam...|               0|                null|           1832477|          406030|200000000 - 50000...|                   35557|                   1327|                   1163|                   977|              668192|{'Free to Play': ...|                  81|             2247365|            71|             23832|\n",
      "|271590|  Grand Theft Auto V|  2015-04-13|          17|  0.0|      1.0|When a young stre...|When a young stre...|Grand Theft Auto ...|                null|https://shared.ak...|http://www.rockst...|https://support.r...|         null|   True|False|False|              96|https://www.metac...|          77|        1641404|                null|['English', 'Fren...|['English', 'Span...|[{'title': 'Buy S...|['Rockstar North']|  ['Rockstar Games']|['Single-player',...|['Action', 'Adven...|['https://shared....|['http://cdn.akam...|               0|                null|           1557234|          236827|50000000 - 100000000|                   12898|                    590|                   6910|                   235|              133571|{'Open World': 31...|                  87|             1643791|            92|             16181|\n",
      "|488822|Tom Clancy's Rain...|  2015-12-01|          17|19.99|      9.0|Edition Compariso...|“One of the best ...|Tom Clancy's Rain...|                null|https://shared.ak...|http://rainbow6.u...|http://support.ub...|         null|   True|False|False|               0|                null|           0|        1090810|                null|['English', 'Fren...|['English', 'Fren...|\"[{'title': \"\"Buy...| 'description': ''| 'subs': [{'text'...|   'description': ''|     'price': 19.99}| {'text': \"\"Tom C...|   'description': ''| 'price': 29.99}| {'text': \"\"Tom C...| 'description': ''| 'price': 69.99}| {'text': \"\"Tom C...|       'description': ''|    'price': 89.99}]}]\"|   ['Ubisoft Montreal']|           ['Ubisoft']|['Single-player',...|          ['Action']|['https://shared....|['http://cdn.akam...|             0|              null|\n",
      "+------+--------------------+------------+------------+-----+---------+--------------------+--------------------+--------------------+--------------------+--------------------+--------------------+--------------------+-------------+-------+-----+-----+----------------+--------------------+------------+---------------+--------------------+--------------------+--------------------+--------------------+------------------+--------------------+--------------------+--------------------+--------------------+--------------------+----------------+--------------------+------------------+----------------+--------------------+------------------------+-----------------------+-----------------------+----------------------+--------------------+--------------------+--------------------+--------------------+--------------+------------------+\n",
      "only showing top 5 rows\n",
      "\n"
     ]
    }
   ],
   "source": [
    "# Menampilkan skema (struktur dataset) dan jumlah kolom \n",
    "print(f\" Total Jumlah baris: {jb}\")\n",
    "# Menampilkan jumlah baris dalam dataset\n",
    "print (f\"Total jumlah Kolom :{jk}\")\n",
    "# Menampilkan 5 baris pertama\n",
    "df.show(5)"
   ]
  },
  {
   "cell_type": "markdown",
   "id": "0202a02b-1892-4955-b314-6023620366a2",
   "metadata": {
    "jp-MarkdownHeadingCollapsed": true
   },
   "source": [
    "## melihat schema dari attribut"
   ]
  },
  {
   "cell_type": "code",
   "execution_count": 4,
   "id": "e896e1b9-2de1-42ef-8980-df17acd3e4eb",
   "metadata": {},
   "outputs": [
    {
     "name": "stdout",
     "output_type": "stream",
     "text": [
      "root\n",
      " |-- AppID: integer (nullable = true)\n",
      " |-- name: string (nullable = true)\n",
      " |-- release_date: string (nullable = true)\n",
      " |-- required_age: string (nullable = true)\n",
      " |-- price: string (nullable = true)\n",
      " |-- dlc_count: double (nullable = true)\n",
      " |-- detailed_description: string (nullable = true)\n",
      " |-- about_the_game: string (nullable = true)\n",
      " |-- short_description: string (nullable = true)\n",
      " |-- reviews: string (nullable = true)\n",
      " |-- header_image: string (nullable = true)\n",
      " |-- website: string (nullable = true)\n",
      " |-- support_url: string (nullable = true)\n",
      " |-- support_email: string (nullable = true)\n",
      " |-- windows: string (nullable = true)\n",
      " |-- mac: string (nullable = true)\n",
      " |-- linux: string (nullable = true)\n",
      " |-- metacritic_score: string (nullable = true)\n",
      " |-- metacritic_url: string (nullable = true)\n",
      " |-- achievements: string (nullable = true)\n",
      " |-- recommendations: string (nullable = true)\n",
      " |-- notes: string (nullable = true)\n",
      " |-- supported_languages: string (nullable = true)\n",
      " |-- full_audio_languages: string (nullable = true)\n",
      " |-- packages: string (nullable = true)\n",
      " |-- developers: string (nullable = true)\n",
      " |-- publishers: string (nullable = true)\n",
      " |-- categories: string (nullable = true)\n",
      " |-- genres: string (nullable = true)\n",
      " |-- screenshots: string (nullable = true)\n",
      " |-- movies: string (nullable = true)\n",
      " |-- user_score: string (nullable = true)\n",
      " |-- score_rank: string (nullable = true)\n",
      " |-- positive: string (nullable = true)\n",
      " |-- negative: string (nullable = true)\n",
      " |-- estimated_owners: string (nullable = true)\n",
      " |-- average_playtime_forever: string (nullable = true)\n",
      " |-- average_playtime_2weeks: string (nullable = true)\n",
      " |-- median_playtime_forever: string (nullable = true)\n",
      " |-- median_playtime_2weeks: string (nullable = true)\n",
      " |-- peak_ccu: string (nullable = true)\n",
      " |-- tags: string (nullable = true)\n",
      " |-- pct_pos_total: string (nullable = true)\n",
      " |-- num_reviews_total: string (nullable = true)\n",
      " |-- pct_pos_recent: string (nullable = true)\n",
      " |-- num_reviews_recent: string (nullable = true)\n",
      "\n"
     ]
    }
   ],
   "source": [
    "df.printSchema()"
   ]
  },
  {
   "cell_type": "code",
   "execution_count": null,
   "id": "317d0de2-24f7-4d63-9377-63a05408e886",
   "metadata": {},
   "outputs": [],
   "source": []
  },
  {
   "cell_type": "markdown",
   "id": "09390b1b-2bca-4d15-8950-d375bf6b17f2",
   "metadata": {
    "jp-MarkdownHeadingCollapsed": true
   },
   "source": [
    "## Memilih atribut untuk di gunakan "
   ]
  },
  {
   "cell_type": "code",
   "execution_count": 6,
   "id": "a9c86544-3c08-44b7-b126-bdfdb8e25f69",
   "metadata": {
    "scrolled": true
   },
   "outputs": [
    {
     "name": "stdout",
     "output_type": "stream",
     "text": [
      "+-------+--------------------+------------+-----+--------------------+--------------------+--------------------+--------------------+\n",
      "|  AppID|                name|release_date|price|          categories|detailed_description|          developers|          publishers|\n",
      "+-------+--------------------+------------+-----+--------------------+--------------------+--------------------+--------------------+\n",
      "|    730|    Counter-Strike 2|  2012-08-21|  0.0|['Multi-player', ...|For over two deca...|           ['Valve']|           ['Valve']|\n",
      "| 578080| PUBG: BATTLEGROUNDS|  2017-12-21|  0.0|['Multi-player', ...|LAND, LOOT, SURVI...|   ['KRAFTON, Inc.']|   ['KRAFTON, Inc.']|\n",
      "|    570|              Dota 2|  2013-07-09|  0.0|['Multi-player', ...|The most-played g...|           ['Valve']|           ['Valve']|\n",
      "| 271590|  Grand Theft Auto V|  2015-04-13|  0.0|['Single-player',...|When a young stre...|  ['Rockstar North']|  ['Rockstar Games']|\n",
      "| 488822|Tom Clancy's Rain...|  2015-12-01|19.99|   'description': ''|Edition Compariso...|   'description': ''| 'subs': [{'text'...|\n",
      "| 488824|Tom Clancy's Rain...|  2015-12-01|19.99|   'description': ''|Edition Compariso...|   'description': ''| 'subs': [{'text'...|\n",
      "| 488823|Tom Clancy's Rain...|  2015-12-01|19.99|   'description': ''|Edition Compariso...|   'description': ''| 'subs': [{'text'...|\n",
      "| 359550|Tom Clancy's Rain...|  2015-12-01|19.99|   'description': ''|Edition Compariso...|   'description': ''| 'subs': [{'text'...|\n",
      "| 488821|Tom Clancy's Rain...|  2015-12-01|19.99|   'description': ''|Edition Compariso...|   'description': ''| 'subs': [{'text'...|\n",
      "|    440|     Team Fortress 2|  2007-10-10|  0.0|       equipment and|\"\"\"The most fun y...| Team Fortress 2 ...|                maps|\n",
      "| 105600|            Terraria|  2011-05-16| 9.99|['Single-player',...|Dig, Fight, Explo...|        ['Re-Logic']|        ['Re-Logic']|\n",
      "|   4000|         Garry's Mod|  2006-11-29| 9.99|   'description': ''|Garry's Mod is a ...|   'description': ''| 'subs': [{'text'...|\n",
      "| 252490|                Rust|  2018-02-08|39.99|['Multi-player', ...|The only aim in R...|['Facepunch Studi...|['Facepunch Studi...|\n",
      "|1172470|       Apex Legends™|  2020-11-04|  0.0|['Multi-player', ...|Apex Legends: Uph...|         ['Respawn']| ['Electronic Arts']|\n",
      "| 292030|The Witcher® 3: W...|  2015-05-18| 9.99|['Single-player',...|Special Offer Abo...|  ['CD PROJEKT RED']|  ['CD PROJEKT RED']|\n",
      "|1091500|      Cyberpunk 2077|  2020-12-09|29.99|['Single-player',...|Cyberpunk 2077: U...|  ['CD PROJEKT RED']|  ['CD PROJEKT RED']|\n",
      "|    550|       Left 4 Dead 2|  2009-11-16| 9.99|['Single-player',...|Set in the zombie...|           ['Valve']|           ['Valve']|\n",
      "| 553850|       HELLDIVERS™ 2|  2024-02-08|39.99|['Multi-player', ...|Digital Deluxe Ed...|['Arrowhead Game ...|['PlayStation PC ...|\n",
      "|1952710| BACKGAMMON Playtest|  2023-10-10|  0.0|                  []|                null|                  []|                ['']|\n",
      "|1245620|          ELDEN RING|  2022-02-24|59.99|['Single-player',...|Early Purchase Pu...|['FromSoftware In...|['FromSoftware In...|\n",
      "+-------+--------------------+------------+-----+--------------------+--------------------+--------------------+--------------------+\n",
      "only showing top 20 rows\n",
      "\n",
      "Jumlah kolom Digunakan: 8\n"
     ]
    }
   ],
   "source": [
    "#memilih atrribut untuk digunakan\n",
    "df = df.select('AppID','name','release_date','price','categories','detailed_description','developers','publishers')\n",
    "df.show()\n",
    "print(f\"Jumlah kolom Digunakan: {len(df.columns)}\")"
   ]
  },
  {
   "cell_type": "markdown",
   "id": "b5d4f054-716b-4cfa-8ef3-0ea7be5cd36d",
   "metadata": {
    "jp-MarkdownHeadingCollapsed": true
   },
   "source": [
    "## identifikasi missing values "
   ]
  },
  {
   "cell_type": "code",
   "execution_count": 80,
   "id": "5ea0fe15-7a68-4060-9c1b-3b8837dd3c8e",
   "metadata": {},
   "outputs": [
    {
     "name": "stderr",
     "output_type": "stream",
     "text": [
      "[Stage 111:==========================================>              (3 + 1) / 4]\r"
     ]
    },
    {
     "name": "stdout",
     "output_type": "stream",
     "text": [
      "+-----+----+------------+-----+----------+--------------------+----------+----------+\n",
      "|AppID|name|release_date|price|categories|detailed_description|developers|publishers|\n",
      "+-----+----+------------+-----+----------+--------------------+----------+----------+\n",
      "|    0|   3|           0|    0|         1|                4150|         6|         3|\n",
      "+-----+----+------------+-----+----------+--------------------+----------+----------+\n",
      "\n"
     ]
    },
    {
     "name": "stderr",
     "output_type": "stream",
     "text": [
      "                                                                                \r"
     ]
    }
   ],
   "source": [
    "from pyspark.sql.functions import col, sum\n",
    "# 3. Menghitung Missing Values di Setiap Kolom\n",
    "missing_values = df.select(\n",
    "    [(sum(col(c).isNull().cast(\"int\")).alias(c)) for c in df.columns]\n",
    ").show()"
   ]
  },
  {
   "cell_type": "markdown",
   "id": "cfd583f6-82ef-44ea-94f2-5d57df5db446",
   "metadata": {
    "jp-MarkdownHeadingCollapsed": true
   },
   "source": [
    "## Menghapus missing value"
   ]
  },
  {
   "cell_type": "code",
   "execution_count": 81,
   "id": "b7e8fe27-fb87-41e4-8ea6-ab0ff1d54969",
   "metadata": {
    "scrolled": true
   },
   "outputs": [
    {
     "name": "stdout",
     "output_type": "stream",
     "text": [
      "+-------+--------------------+------------+-----+--------------------+--------------------+--------------------+--------------------+\n",
      "|  AppID|                name|release_date|price|          categories|detailed_description|          developers|          publishers|\n",
      "+-------+--------------------+------------+-----+--------------------+--------------------+--------------------+--------------------+\n",
      "|    730|    Counter-Strike 2|  2012-08-21|  0.0|['Multi-player', ...|For over two deca...|           ['Valve']|           ['Valve']|\n",
      "| 578080| PUBG: BATTLEGROUNDS|  2017-12-21|  0.0|['Multi-player', ...|LAND, LOOT, SURVI...|   ['KRAFTON, Inc.']|   ['KRAFTON, Inc.']|\n",
      "|    570|              Dota 2|  2013-07-09|  0.0|['Multi-player', ...|The most-played g...|           ['Valve']|           ['Valve']|\n",
      "| 271590|  Grand Theft Auto V|  2015-04-13|  0.0|['Single-player',...|When a young stre...|  ['Rockstar North']|  ['Rockstar Games']|\n",
      "| 488822|Tom Clancy's Rain...|  2015-12-01|19.99|   'description': ''|Edition Compariso...|   'description': ''| 'subs': [{'text'...|\n",
      "| 488824|Tom Clancy's Rain...|  2015-12-01|19.99|   'description': ''|Edition Compariso...|   'description': ''| 'subs': [{'text'...|\n",
      "| 488823|Tom Clancy's Rain...|  2015-12-01|19.99|   'description': ''|Edition Compariso...|   'description': ''| 'subs': [{'text'...|\n",
      "| 359550|Tom Clancy's Rain...|  2015-12-01|19.99|   'description': ''|Edition Compariso...|   'description': ''| 'subs': [{'text'...|\n",
      "| 488821|Tom Clancy's Rain...|  2015-12-01|19.99|   'description': ''|Edition Compariso...|   'description': ''| 'subs': [{'text'...|\n",
      "|    440|     Team Fortress 2|  2007-10-10|  0.0|       equipment and|\"\"\"The most fun y...| Team Fortress 2 ...|                maps|\n",
      "| 105600|            Terraria|  2011-05-16| 9.99|['Single-player',...|Dig, Fight, Explo...|        ['Re-Logic']|        ['Re-Logic']|\n",
      "|   4000|         Garry's Mod|  2006-11-29| 9.99|   'description': ''|Garry's Mod is a ...|   'description': ''| 'subs': [{'text'...|\n",
      "| 252490|                Rust|  2018-02-08|39.99|['Multi-player', ...|The only aim in R...|['Facepunch Studi...|['Facepunch Studi...|\n",
      "|1172470|       Apex Legends™|  2020-11-04|  0.0|['Multi-player', ...|Apex Legends: Uph...|         ['Respawn']| ['Electronic Arts']|\n",
      "| 292030|The Witcher® 3: W...|  2015-05-18| 9.99|['Single-player',...|Special Offer Abo...|  ['CD PROJEKT RED']|  ['CD PROJEKT RED']|\n",
      "|1091500|      Cyberpunk 2077|  2020-12-09|29.99|['Single-player',...|Cyberpunk 2077: U...|  ['CD PROJEKT RED']|  ['CD PROJEKT RED']|\n",
      "|    550|       Left 4 Dead 2|  2009-11-16| 9.99|['Single-player',...|Set in the zombie...|           ['Valve']|           ['Valve']|\n",
      "| 553850|       HELLDIVERS™ 2|  2024-02-08|39.99|['Multi-player', ...|Digital Deluxe Ed...|['Arrowhead Game ...|['PlayStation PC ...|\n",
      "|1245620|          ELDEN RING|  2022-02-24|59.99|['Single-player',...|Early Purchase Pu...|['FromSoftware In...|['FromSoftware In...|\n",
      "| 413150|      Stardew Valley|  2016-02-26|14.99|['Single-player',...|Stardew Valley is...|    ['ConcernedApe']|    ['ConcernedApe']|\n",
      "+-------+--------------------+------------+-----+--------------------+--------------------+--------------------+--------------------+\n",
      "only showing top 20 rows\n",
      "\n"
     ]
    }
   ],
   "source": [
    "# Menghapus Baris dengan Missing Values\n",
    "df = df.na.drop()\n",
    "\n",
    "# Menampilkan Data Setelah Penghapusan\n",
    "df .show()"
   ]
  },
  {
   "cell_type": "markdown",
   "id": "c4f69bd2-8792-4a13-a5cb-4b9315d23383",
   "metadata": {
    "jp-MarkdownHeadingCollapsed": true
   },
   "source": [
    "## identifikasi ulang missing values "
   ]
  },
  {
   "cell_type": "code",
   "execution_count": 82,
   "id": "c0114eae-d94f-46cd-846a-1963e93d2221",
   "metadata": {},
   "outputs": [
    {
     "name": "stderr",
     "output_type": "stream",
     "text": [
      "[Stage 115:==========================================>              (3 + 1) / 4]\r"
     ]
    },
    {
     "name": "stdout",
     "output_type": "stream",
     "text": [
      "+-----+----+------------+-----+----------+--------------------+----------+----------+\n",
      "|AppID|name|release_date|price|categories|detailed_description|developers|publishers|\n",
      "+-----+----+------------+-----+----------+--------------------+----------+----------+\n",
      "|    0|   0|           0|    0|         0|                   0|         0|         0|\n",
      "+-----+----+------------+-----+----------+--------------------+----------+----------+\n",
      "\n"
     ]
    },
    {
     "name": "stderr",
     "output_type": "stream",
     "text": [
      "                                                                                \r"
     ]
    }
   ],
   "source": [
    "from pyspark.sql.functions import col, sum\n",
    "# 3. Menghitung Missing Values di Setiap Kolom\n",
    "missing_values = df.select(\n",
    "    [(sum(col(c).isNull().cast(\"int\")).alias(c)) for c in df.columns]\n",
    ").show()"
   ]
  },
  {
   "cell_type": "markdown",
   "id": "55a2988a-4856-4d17-980e-7321f96632fb",
   "metadata": {
    "scrolled": true
   },
   "source": [
    "## Menyimpan data"
   ]
  },
  {
   "cell_type": "code",
   "execution_count": 84,
   "id": "1132258a-f718-4789-b3d3-9989fd61a1f9",
   "metadata": {},
   "outputs": [
    {
     "name": "stderr",
     "output_type": "stream",
     "text": [
      "[Stage 118:>                                                        (0 + 1) / 1]\r"
     ]
    },
    {
     "name": "stdout",
     "output_type": "stream",
     "text": [
      "Folder SteamGamesDataset dihapus\n",
      "Data disimpan dengan nama: SteamGames_cleanedMay2024.csv\n"
     ]
    },
    {
     "name": "stderr",
     "output_type": "stream",
     "text": [
      "                                                                                \r"
     ]
    }
   ],
   "source": [
    "import shutil\n",
    "import os\n",
    "\n",
    "#Tentukan nama folder dan nama file output\n",
    "nama_path = 'SteamGamesDataset'  # Folder untuk menyimpan data sementara\n",
    "output_file = 'SteamGames_cleanedMay2024.csv'  # Nama file output yang diinginkan\n",
    "\n",
    "#Menulis DataFrame ke folder\n",
    "df.coalesce(1).write.option(\"header\", \"true\").mode(\"overwrite\").csv(nama_path)\n",
    "\n",
    "#Menemukan file partisi yang dihasilkan Spark dan memindahkannya ke file output\n",
    "part_file = next((f for f in os.listdir(nama_path) if f.startswith('part-')), None)\n",
    "\n",
    "if part_file:\n",
    "    os.rename(f'{nama_path}/{part_file}', output_file)  # Pindahkan file\n",
    "    shutil.rmtree(nama_path)  # Hapus folder kosong\n",
    "    print(f\"Folder {nama_path} dihapus\")\n",
    "\n",
    "print(f\"Data disimpan dengan nama: {output_file}\")"
   ]
  },
  {
   "cell_type": "code",
   "execution_count": 87,
   "id": "e065412c-cdd8-4b14-99f7-b5e10f51e78c",
   "metadata": {},
   "outputs": [
    {
     "name": "stdout",
     "output_type": "stream",
     "text": [
      " CNN_3_kelas.ipynb                      \u001b[0m\u001b[01;34metc\u001b[0m/\n",
      "'CNN_model pertama.ipynb'               games_may2024_full.csv\n",
      " Download_data_kaggle.ipynb             \u001b[01;34mimages\u001b[0m/\n",
      "'Model ANN Workshop.ipynb'              \u001b[01;34mimageslatihan\u001b[0m/\n",
      " Responsi_235410115_Christian_R.ipynb   \u001b[01;34mlib\u001b[0m/\n",
      " Responsi_CNN_IFBD_.ipynb               \u001b[01;31mmessy-vs-clean-room.zip\u001b[0m\n",
      " Scraping.ipynb                         pyvenv.cfg\n",
      " SteamGames_cleanedMay2024.csv          \u001b[01;34mshare\u001b[0m/\n",
      " \u001b[01;31mTester.zip\u001b[0m                             spark-CNN.ipynb\n",
      " appstream.py                           steam.ipynb\n",
      " \u001b[01;34mbin\u001b[0m/                                   steam_games.csv\n",
      " \u001b[01;34mdataset\u001b[0m/                              'test spark.ipynb'\n"
     ]
    }
   ],
   "source": [
    "ls "
   ]
  },
  {
   "cell_type": "code",
   "execution_count": null,
   "id": "e52ced06-05fc-481a-b3b9-2b894c918bef",
   "metadata": {},
   "outputs": [],
   "source": []
  },
  {
   "cell_type": "markdown",
   "id": "01166d97-1f51-44bc-892e-babadbdbaead",
   "metadata": {},
   "source": [
    "# memuat dataset baru"
   ]
  },
  {
   "cell_type": "code",
   "execution_count": 1,
   "id": "a9c148c6-c823-456f-841e-c9149b42f782",
   "metadata": {},
   "outputs": [
    {
     "name": "stderr",
     "output_type": "stream",
     "text": [
      "                                                                                \r"
     ]
    },
    {
     "name": "stdout",
     "output_type": "stream",
     "text": [
      "+-------+--------------------+------------+-----+--------------------+--------------------+--------------------+--------------------+\n",
      "|  AppID|                name|release_date|price|          categories|detailed_description|          developers|          publishers|\n",
      "+-------+--------------------+------------+-----+--------------------+--------------------+--------------------+--------------------+\n",
      "|    730|    Counter-Strike 2|  2012-08-21|  0.0|['Multi-player', ...|For over two deca...|           ['Valve']|           ['Valve']|\n",
      "| 578080| PUBG: BATTLEGROUNDS|  2017-12-21|  0.0|['Multi-player', ...|LAND, LOOT, SURVI...|   ['KRAFTON, Inc.']|   ['KRAFTON, Inc.']|\n",
      "|    570|              Dota 2|  2013-07-09|  0.0|['Multi-player', ...|The most-played g...|           ['Valve']|           ['Valve']|\n",
      "| 271590|  Grand Theft Auto V|  2015-04-13|  0.0|['Single-player',...|When a young stre...|  ['Rockstar North']|  ['Rockstar Games']|\n",
      "| 488822|Tom Clancy's Rain...|  2015-12-01|19.99|   'description': ''|Edition Compariso...|   'description': ''|'subs': [{'text':...|\n",
      "| 488824|Tom Clancy's Rain...|  2015-12-01|19.99|   'description': ''|Edition Compariso...|   'description': ''|'subs': [{'text':...|\n",
      "| 488823|Tom Clancy's Rain...|  2015-12-01|19.99|   'description': ''|Edition Compariso...|   'description': ''|'subs': [{'text':...|\n",
      "| 359550|Tom Clancy's Rain...|  2015-12-01|19.99|   'description': ''|Edition Compariso...|   'description': ''|'subs': [{'text':...|\n",
      "| 488821|Tom Clancy's Rain...|  2015-12-01|19.99|   'description': ''|Edition Compariso...|   'description': ''|'subs': [{'text':...|\n",
      "|    440|     Team Fortress 2|  2007-10-10|  0.0|       equipment and|\"\"\"The most fun y...|Team Fortress 2 d...|                maps|\n",
      "| 105600|            Terraria|  2011-05-16| 9.99|['Single-player',...|Dig, Fight, Explo...|        ['Re-Logic']|        ['Re-Logic']|\n",
      "|   4000|         Garry's Mod|  2006-11-29| 9.99|   'description': ''|Garry's Mod is a ...|   'description': ''|'subs': [{'text':...|\n",
      "| 252490|                Rust|  2018-02-08|39.99|['Multi-player', ...|The only aim in R...|['Facepunch Studi...|['Facepunch Studi...|\n",
      "|1172470|       Apex Legends™|  2020-11-04|  0.0|['Multi-player', ...|Apex Legends: Uph...|         ['Respawn']| ['Electronic Arts']|\n",
      "| 292030|The Witcher® 3: W...|  2015-05-18| 9.99|['Single-player',...|Special Offer Abo...|  ['CD PROJEKT RED']|  ['CD PROJEKT RED']|\n",
      "|1091500|      Cyberpunk 2077|  2020-12-09|29.99|['Single-player',...|Cyberpunk 2077: U...|  ['CD PROJEKT RED']|  ['CD PROJEKT RED']|\n",
      "|    550|       Left 4 Dead 2|  2009-11-16| 9.99|['Single-player',...|Set in the zombie...|           ['Valve']|           ['Valve']|\n",
      "| 553850|       HELLDIVERS™ 2|  2024-02-08|39.99|['Multi-player', ...|Digital Deluxe Ed...|['Arrowhead Game ...|['PlayStation PC ...|\n",
      "|1245620|          ELDEN RING|  2022-02-24|59.99|['Single-player',...|Early Purchase Pu...|['FromSoftware In...|['FromSoftware In...|\n",
      "| 413150|      Stardew Valley|  2016-02-26|14.99|['Single-player',...|Stardew Valley is...|    ['ConcernedApe']|    ['ConcernedApe']|\n",
      "+-------+--------------------+------------+-----+--------------------+--------------------+--------------------+--------------------+\n",
      "only showing top 20 rows\n",
      "\n"
     ]
    }
   ],
   "source": [
    "from pyspark.sql import SparkSession\n",
    "\n",
    "# Membuat SparkSession\n",
    "spark = SparkSession.builder \\\n",
    "    .appName(\"Dataset_cleaned\") \\\n",
    "    .getOrCreate()\n",
    "# Lokasi file CSV\n",
    "df = spark.read.csv(\"SteamGames_cleanedMay2024.csv\", header=True, inferSchema=True)\n",
    "df.show()"
   ]
  },
  {
   "cell_type": "markdown",
   "id": "70948426-bdd5-459c-8369-acd77173ee96",
   "metadata": {},
   "source": [
    "## Membuat DataFrame Baru"
   ]
  },
  {
   "cell_type": "code",
   "execution_count": 3,
   "id": "89f4e01f-78b3-40c8-8e4a-27eb1e058df4",
   "metadata": {},
   "outputs": [],
   "source": [
    "name_price = df.select('name','price')"
   ]
  },
  {
   "cell_type": "code",
   "execution_count": 4,
   "id": "44fb1fed-b7e6-47cc-a8dc-8a16cd3b2fe9",
   "metadata": {},
   "outputs": [
    {
     "name": "stdout",
     "output_type": "stream",
     "text": [
      "+--------------------+-----+\n",
      "|                name|price|\n",
      "+--------------------+-----+\n",
      "|    Counter-Strike 2|  0.0|\n",
      "| PUBG: BATTLEGROUNDS|  0.0|\n",
      "|              Dota 2|  0.0|\n",
      "|  Grand Theft Auto V|  0.0|\n",
      "|Tom Clancy's Rain...|19.99|\n",
      "|Tom Clancy's Rain...|19.99|\n",
      "|Tom Clancy's Rain...|19.99|\n",
      "|Tom Clancy's Rain...|19.99|\n",
      "|Tom Clancy's Rain...|19.99|\n",
      "|     Team Fortress 2|  0.0|\n",
      "|            Terraria| 9.99|\n",
      "|         Garry's Mod| 9.99|\n",
      "|                Rust|39.99|\n",
      "|       Apex Legends™|  0.0|\n",
      "|The Witcher® 3: W...| 9.99|\n",
      "|      Cyberpunk 2077|29.99|\n",
      "|       Left 4 Dead 2| 9.99|\n",
      "|       HELLDIVERS™ 2|39.99|\n",
      "|          ELDEN RING|59.99|\n",
      "|      Stardew Valley|14.99|\n",
      "|            Among Us| 4.99|\n",
      "|           Destiny 2|  0.0|\n",
      "|            Warframe|  0.0|\n",
      "|Euro Truck Simula...| 4.99|\n",
      "|        Phasmophobia|13.99|\n",
      "+--------------------+-----+\n",
      "only showing top 25 rows\n",
      "\n"
     ]
    }
   ],
   "source": [
    "name_price .show (25)"
   ]
  },
  {
   "cell_type": "markdown",
   "id": "d2e45027-4adc-4591-85c1-647d9fb6c80e",
   "metadata": {},
   "source": [
    "## Filter menurut Harga dan Nama "
   ]
  },
  {
   "cell_type": "code",
   "execution_count": 5,
   "id": "a4890654-5943-4f3b-aead-80f3e70fbaa6",
   "metadata": {},
   "outputs": [
    {
     "name": "stderr",
     "output_type": "stream",
     "text": [
      "[Stage 4:>                                                          (0 + 2) / 2]\r"
     ]
    },
    {
     "name": "stdout",
     "output_type": "stream",
     "text": [
      "+-----+-----+\n",
      "|price|count|\n",
      "+-----+-----+\n",
      "| 4.99| 9034|\n",
      "|13.99|  483|\n",
      "|  0.0|12702|\n",
      "+-----+-----+\n",
      "\n"
     ]
    },
    {
     "name": "stderr",
     "output_type": "stream",
     "text": [
      "                                                                                \r"
     ]
    }
   ],
   "source": [
    "from pyspark.sql.functions import udf, col   \n",
    "#Memfilter hanya untuk Score dengan nilai 0.0\n",
    "Free_play = [0.0,13.99,4.99]\n",
    "df = df.filter(col(\"price\").isin(Free_play))\n",
    "\n",
    "#Menghitung jumlah setiap score\n",
    "score_counts = df.groupBy(\"price\").count().orderBy(col(\"price\").desc())\n",
    "\n",
    "#Menampilkan hasil dalam DataFrame PySpark\n",
    "score_counts.show()"
   ]
  },
  {
   "cell_type": "markdown",
   "id": "5e73d3cb-5ce9-4131-88cf-25ebc18a14ad",
   "metadata": {},
   "source": [
    "## Visualisasi Perbandingan "
   ]
  },
  {
   "cell_type": "code",
   "execution_count": 6,
   "id": "ec47a6b9-f841-4169-8c61-7305742be435",
   "metadata": {},
   "outputs": [
    {
     "name": "stderr",
     "output_type": "stream",
     "text": [
      "                                                                                \r"
     ]
    },
    {
     "data": {
      "image/png": "[encoded data removed]",
      "text/plain": [
       "<Figure size 600x600 with 1 Axes>"
      ]
     },
     "metadata": {},
     "output_type": "display_data"
    }
   ],
   "source": [
    "import matplotlib.pyplot as plt\n",
    "\n",
    "#Memfilter hanya untuk Score dengan nilai 0,0\n",
    "free_price = [0.0,13.99,4.99]\n",
    "df = df.filter(col(\"price\").isin(free_price))\n",
    "\n",
    "#Menghitung jumlah setiap Score\n",
    "score_counts = df.groupBy(\"price\").count().orderBy(col(\"count\"))\n",
    "\n",
    "#Mengonversi hasil ke daftar untuk plotting\n",
    "scores = [row[\"price\"] for row in score_counts.collect()]\n",
    "counts = [row[\"count\"] for row in score_counts.collect()]\n",
    "\n",
    "#Membuat diagram pie\n",
    "plt.figure(figsize=(6,6))\n",
    "plt.pie(counts, labels=scores, autopct='%1.1f%%', startangle=90, colors=plt.cm.Paired.colors)\n",
    "plt.title(\"Free To play 0 $, $ 4.99,13 \")\n",
    "plt.show()"
   ]
  },
  {
   "cell_type": "markdown",
   "id": "4f7d8b5e-043e-4a91-9a60-7330cbdf899d",
   "metadata": {},
   "source": [
    "## Filter berdasarkan price dan name"
   ]
  },
  {
   "cell_type": "code",
   "execution_count": 7,
   "id": "973f423e-e77f-45a2-a272-35958a23a082",
   "metadata": {},
   "outputs": [
    {
     "name": "stdout",
     "output_type": "stream",
     "text": [
      "+--------------------+-----+\n",
      "|                name|price|\n",
      "+--------------------+-----+\n",
      "|    Counter-Strike 2|  0.0|\n",
      "| PUBG: BATTLEGROUNDS|  0.0|\n",
      "|              Dota 2|  0.0|\n",
      "|  Grand Theft Auto V|  0.0|\n",
      "|     Team Fortress 2|  0.0|\n",
      "|       Apex Legends™|  0.0|\n",
      "|            Among Us| 4.99|\n",
      "|           Destiny 2|  0.0|\n",
      "|            Warframe|  0.0|\n",
      "|Euro Truck Simula...| 4.99|\n",
      "|        Phasmophobia|13.99|\n",
      "|            Unturned|  0.0|\n",
      "|         War Thunder|  0.0|\n",
      "|           Fall Guys|  0.0|\n",
      "|      Rocket League®|  0.0|\n",
      "|           Paladins®|  0.0|\n",
      "|       Geometry Dash| 4.99|\n",
      "|       Call of Duty®|  0.0|\n",
      "|  NARAKA: BLADEPOINT|  0.0|\n",
      "|       Path of Exile|  0.0|\n",
      "+--------------------+-----+\n",
      "only showing top 20 rows\n",
      "\n"
     ]
    }
   ],
   "source": [
    "#filter berdasarkan name dan price\n",
    "df_baru=df.select('name','price')\n",
    "df_baru .show()"
   ]
  },
  {
   "cell_type": "markdown",
   "id": "5a9e6a7e-d1ff-40fa-8a1c-8238d0b5b40e",
   "metadata": {},
   "source": [
    "## Menyimpan Dataset_baru"
   ]
  },
  {
   "cell_type": "code",
   "execution_count": 8,
   "id": "f8bc96d5-18c7-4da9-90de-67cd2659a317",
   "metadata": {},
   "outputs": [
    {
     "name": "stderr",
     "output_type": "stream",
     "text": [
      "[Stage 19:>                                                         (0 + 1) / 1]\r"
     ]
    },
    {
     "name": "stdout",
     "output_type": "stream",
     "text": [
      "Folder SteamGamesDataset dihapus\n",
      "Data disimpan dengan nama: NameDanPrice.csv\n"
     ]
    },
    {
     "name": "stderr",
     "output_type": "stream",
     "text": [
      "                                                                                \r"
     ]
    }
   ],
   "source": [
    "import shutil\n",
    "import os\n",
    "\n",
    "#Tentukan nama folder dan nama file output\n",
    "nama_path = 'SteamGamesDataset'  # Folder untuk menyimpan data sementara\n",
    "output_file = 'NameDanPrice.csv'  # Nama file output yang diinginkan\n",
    "\n",
    "#Menulis DataFrame ke folder\n",
    "df.coalesce(1).write.option(\"header\", \"true\").mode(\"overwrite\").csv(nama_path)\n",
    "\n",
    "#Menemukan file partisi yang dihasilkan Spark dan memindahkannya ke file output\n",
    "part_file = next((f for f in os.listdir(nama_path) if f.startswith('part-')), None)\n",
    "\n",
    "if part_file:\n",
    "    os.rename(f'{nama_path}/{part_file}', output_file)  # Pindahkan file\n",
    "    shutil.rmtree(nama_path)  # Hapus folder kosong\n",
    "    print(f\"Folder {nama_path} dihapus\")\n",
    "\n",
    "print(f\"Data disimpan dengan nama: {output_file}\")"
   ]
  },
  {
   "cell_type": "code",
   "execution_count": null,
   "id": "f3a9bbe3-93f0-437c-8279-18454e55b8af",
   "metadata": {},
   "outputs": [],
   "source": []
  }
 ],
 "metadata": {
  "kernelspec": {
   "display_name": "Python 3 (ipykernel)",
   "language": "python",
   "name": "python3"
  },
  "language_info": {
   "codemirror_mode": {
    "name": "ipython",
    "version": 3
   },
   "file_extension": ".py",
   "mimetype": "text/x-python",
   "name": "python",
   "nbconvert_exporter": "python",
   "pygments_lexer": "ipython3",
   "version": "3.10.12"
  }
 },
 "nbformat": 4,
 "nbformat_minor": 5
}
